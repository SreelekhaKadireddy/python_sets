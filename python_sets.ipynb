{
 "cells": [
  {
   "cell_type": "code",
   "execution_count": 1,
   "id": "231d503b-8f88-4c00-99ce-8bd1899f5fc4",
   "metadata": {},
   "outputs": [
    {
     "name": "stdout",
     "output_type": "stream",
     "text": [
      "{True, 'apple', 10, 20.5}\n"
     ]
    }
   ],
   "source": [
    "#set-unordered,unchangable,unindexed,not allowed duplicates\n",
    "set1={\"apple\",10,True,20.5}\n",
    "print(set1)"
   ]
  },
  {
   "cell_type": "code",
   "execution_count": 2,
   "id": "895f4fd2-3265-4446-a899-adbc074362f3",
   "metadata": {},
   "outputs": [
    {
     "name": "stdout",
     "output_type": "stream",
     "text": [
      "4\n",
      "<class 'set'>\n"
     ]
    }
   ],
   "source": [
    "print(len(set1))\n",
    "print(type(set1))"
   ]
  },
  {
   "cell_type": "code",
   "execution_count": 5,
   "id": "aec1e8de-c39b-451a-8419-fdfbb937aa6b",
   "metadata": {},
   "outputs": [
    {
     "name": "stdout",
     "output_type": "stream",
     "text": [
      "{40, 10, 20, 30}\n"
     ]
    }
   ],
   "source": [
    "l=[10,20,30,10,20,40]\n",
    "s=set(l) #set() constucter\n",
    "print(s)"
   ]
  },
  {
   "cell_type": "code",
   "execution_count": 8,
   "id": "b1504f38-427f-48ab-8269-6779ff75d4cc",
   "metadata": {},
   "outputs": [
    {
     "name": "stdout",
     "output_type": "stream",
     "text": [
      "True\n",
      "apple\n",
      "10\n",
      "20.5\n",
      "True\n",
      "False\n"
     ]
    }
   ],
   "source": [
    "#access elements using for loop\n",
    "set1={\"apple\",10,True,20.5}\n",
    "for item in set1:\n",
    " print (item)\n",
    "print(\"apple\" in set1)\n",
    "print(20 in set1)"
   ]
  },
  {
   "cell_type": "code",
   "execution_count": 9,
   "id": "50649b0b-ea3d-4aeb-bd86-138739c43a71",
   "metadata": {},
   "outputs": [
    {
     "name": "stdout",
     "output_type": "stream",
     "text": [
      "{False, True, 10, 20.5, 'apple'}\n"
     ]
    }
   ],
   "source": [
    "#add items\n",
    "set1={\"apple\",10,True,20.5}\n",
    "set1.add(False)\n",
    "print(set1)"
   ]
  },
  {
   "cell_type": "code",
   "execution_count": 12,
   "id": "f397e991-8e6f-4867-8028-026755dc68ca",
   "metadata": {},
   "outputs": [
    {
     "name": "stdout",
     "output_type": "stream",
     "text": [
      "{False, True, 10, 20.5, 20, 'apple', 30}\n"
     ]
    }
   ],
   "source": [
    "#update set\n",
    "set2={10,20,30}\n",
    "set1.update(set2) #duplicates are not allowed\n",
    "print(set1)"
   ]
  },
  {
   "cell_type": "code",
   "execution_count": 16,
   "id": "55e0d172-6b27-4e2e-82fd-4bbe13cdb81a",
   "metadata": {},
   "outputs": [
    {
     "name": "stdout",
     "output_type": "stream",
     "text": [
      "{False, True, 20.5, 20, 'apple', 30}\n",
      "{False, True, 20, 'apple', 30}\n",
      "{True, 20, 'apple', 30}\n",
      "set()\n"
     ]
    },
    {
     "ename": "NameError",
     "evalue": "name 'set1' is not defined",
     "output_type": "error",
     "traceback": [
      "\u001b[1;31m---------------------------------------------------------------------------\u001b[0m",
      "\u001b[1;31mNameError\u001b[0m                                 Traceback (most recent call last)",
      "Cell \u001b[1;32mIn[16], line 12\u001b[0m\n\u001b[0;32m     10\u001b[0m \u001b[38;5;28mprint\u001b[39m(set1)\n\u001b[0;32m     11\u001b[0m \u001b[38;5;28;01mdel\u001b[39;00m set1\n\u001b[1;32m---> 12\u001b[0m \u001b[38;5;28mprint\u001b[39m(\u001b[43mset1\u001b[49m)\n",
      "\u001b[1;31mNameError\u001b[0m: name 'set1' is not defined"
     ]
    }
   ],
   "source": [
    "#remove elements\n",
    "set1={False, True, 10, 20.5, 20, 'apple', 30}\n",
    "set1.remove(10)\n",
    "print(set1)\n",
    "set1.discard(20.5)\n",
    "print(set1)\n",
    "set1.pop()\n",
    "print(set1)\n",
    "set1.clear()\n",
    "print(set1)\n",
    "del set1 #deletes the set object\n",
    "print(set1)"
   ]
  },
  {
   "cell_type": "code",
   "execution_count": 19,
   "id": "c2f604eb-9f52-4072-a30b-a57e803a018d",
   "metadata": {},
   "outputs": [
    {
     "name": "stdout",
     "output_type": "stream",
     "text": [
      "{50, 20, 40, 10, 60, 30}\n"
     ]
    }
   ],
   "source": [
    "#join 2 sets using union()\n",
    "s1={10,20,30}\n",
    "s2={40,50,10,60}\n",
    "s3=s1.union(s2)\n",
    "print(s3)\n",
    "s3=s3.update(set2)\n"
   ]
  },
  {
   "cell_type": "code",
   "execution_count": 22,
   "id": "49179ee0-d35f-4d73-bbde-478809044d68",
   "metadata": {},
   "outputs": [
    {
     "name": "stdout",
     "output_type": "stream",
     "text": [
      "{10}\n",
      "{10}\n"
     ]
    }
   ],
   "source": [
    "#keep only the duplicate values\n",
    "s1={10,20,30}\n",
    "s2={40,50,10,60}\n",
    "s1.intersection_update(s2)\n",
    "print(s1)\n",
    "s3=s1.intersection(s2)\n",
    "print(s3)"
   ]
  },
  {
   "cell_type": "code",
   "execution_count": 25,
   "id": "f1850e6a-b10a-46ab-af3d-6d5fcb5adbbb",
   "metadata": {},
   "outputs": [
    {
     "name": "stdout",
     "output_type": "stream",
     "text": [
      "{40, 50, 20, 60, 30}\n"
     ]
    }
   ],
   "source": [
    "#unique elements\n",
    "s1={10,20,30}\n",
    "s2={40,50,10,60}\n",
    "#s1.symmetric_difference_update(s2)\n",
    "#print(s1)\n",
    "s3=s1.symmetric_difference(s2)\n",
    "print(s3)"
   ]
  },
  {
   "cell_type": "code",
   "execution_count": null,
   "id": "dbff0c59-7e81-42c7-b61d-ce2b9a8eba42",
   "metadata": {},
   "outputs": [],
   "source": []
  }
 ],
 "metadata": {
  "kernelspec": {
   "display_name": "Python 3 (ipykernel)",
   "language": "python",
   "name": "python3"
  },
  "language_info": {
   "codemirror_mode": {
    "name": "ipython",
    "version": 3
   },
   "file_extension": ".py",
   "mimetype": "text/x-python",
   "name": "python",
   "nbconvert_exporter": "python",
   "pygments_lexer": "ipython3",
   "version": "3.10.2"
  }
 },
 "nbformat": 4,
 "nbformat_minor": 5
}
